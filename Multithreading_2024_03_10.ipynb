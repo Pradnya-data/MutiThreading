{
 "cells": [
  {
   "cell_type": "markdown",
   "id": "1ed74f61",
   "metadata": {},
   "source": [
    "# MULTITHREADING"
   ]
  },
  {
   "cell_type": "code",
   "execution_count": 15,
   "id": "3e5cd62e",
   "metadata": {},
   "outputs": [],
   "source": [
    "# defining a function\n",
    "def square_cal(num):\n",
    "    a=num*num\n",
    "    print(f\"Square of {num}={a}\",end=\"\\t\")"
   ]
  },
  {
   "cell_type": "code",
   "execution_count": 2,
   "id": "f48ee46f",
   "metadata": {},
   "outputs": [
    {
     "name": "stdout",
     "output_type": "stream",
     "text": [
      "Square of 5=25\n"
     ]
    }
   ],
   "source": [
    "square_cal(5)"
   ]
  },
  {
   "cell_type": "code",
   "execution_count": 3,
   "id": "cf48d2dc",
   "metadata": {},
   "outputs": [],
   "source": [
    "# import threading module\n",
    "import threading"
   ]
  },
  {
   "cell_type": "code",
   "execution_count": null,
   "id": "eb5397fe",
   "metadata": {},
   "outputs": [],
   "source": [
    "# Syntax\n",
    "# threading.Thread(target=function_name , args=(arg1,args2, ))"
   ]
  },
  {
   "cell_type": "code",
   "execution_count": 4,
   "id": "d6646bd3",
   "metadata": {},
   "outputs": [
    {
     "data": {
      "text/plain": [
       "[1, 2, 3, 4]"
      ]
     },
     "execution_count": 4,
     "metadata": {},
     "output_type": "execute_result"
    }
   ],
   "source": [
    "# create a list of numbers\n",
    "\n",
    "l1=[1,2,3,4]\n",
    "l1"
   ]
  },
  {
   "cell_type": "code",
   "execution_count": 5,
   "id": "78e7f1ee",
   "metadata": {},
   "outputs": [],
   "source": [
    "# create an empty list\n",
    "sq_list=[]"
   ]
  },
  {
   "cell_type": "markdown",
   "id": "6571ea12",
   "metadata": {},
   "source": [
    "# Single Thread"
   ]
  },
  {
   "cell_type": "code",
   "execution_count": 6,
   "id": "3fe9b51d",
   "metadata": {},
   "outputs": [
    {
     "name": "stdout",
     "output_type": "stream",
     "text": [
      "Square of 1=1\n",
      "Square of 2=4\n",
      "Square of 3=9\n",
      "Square of 4=16\n"
     ]
    }
   ],
   "source": [
    "for i in l1:\n",
    "    t1=threading.Thread(target=square_cal,args=(i,))\n",
    "    t1.start()\n",
    "    sq_list.append(t1)"
   ]
  },
  {
   "cell_type": "code",
   "execution_count": 9,
   "id": "f19a3c2c",
   "metadata": {},
   "outputs": [],
   "source": [
    "for i in sq_list:\n",
    "    t1.join()"
   ]
  },
  {
   "cell_type": "code",
   "execution_count": 11,
   "id": "a1e07744",
   "metadata": {},
   "outputs": [
    {
     "data": {
      "text/plain": [
       "<Thread(Thread-8 (square_cal), stopped 20040)>"
      ]
     },
     "execution_count": 11,
     "metadata": {},
     "output_type": "execute_result"
    }
   ],
   "source": [
    "t1"
   ]
  },
  {
   "cell_type": "markdown",
   "id": "6adaddf0",
   "metadata": {},
   "source": [
    "# Multiple Threads "
   ]
  },
  {
   "cell_type": "code",
   "execution_count": 12,
   "id": "a92c0167",
   "metadata": {},
   "outputs": [],
   "source": [
    "# define cube function\n",
    "def cube_cal(num):\n",
    "    c=num*num*num\n",
    "    print(f\"Cube of {num}= {c}\")"
   ]
  },
  {
   "cell_type": "code",
   "execution_count": 13,
   "id": "9976999e",
   "metadata": {},
   "outputs": [
    {
     "name": "stdout",
     "output_type": "stream",
     "text": [
      "Cube of 3= 27\n"
     ]
    }
   ],
   "source": [
    "cube_cal(3)"
   ]
  },
  {
   "cell_type": "code",
   "execution_count": 16,
   "id": "c2f3ba56",
   "metadata": {},
   "outputs": [
    {
     "name": "stdout",
     "output_type": "stream",
     "text": [
      "Square of 1=1\tCube of 1= 1\n",
      "Square of 2=4\tCube of 2= 8\n",
      "Square of 3=9\tCube of 3= 27\n",
      "Square of 4=16\tCube of 4= 64\n"
     ]
    }
   ],
   "source": [
    "# define multiple threads\n",
    "\n",
    "for i in l1:\n",
    "    t1=threading.Thread(target=square_cal,args=(i,))\n",
    "    t2=threading.Thread(target=cube_cal,args=(i,))\n",
    "    t1.start()\n",
    "    t2.start()\n",
    "    t1.join()\n",
    "    t2.join()\n",
    "\n"
   ]
  },
  {
   "cell_type": "markdown",
   "id": "86be3906",
   "metadata": {},
   "source": [
    "# Downloading files"
   ]
  },
  {
   "cell_type": "code",
   "execution_count": 17,
   "id": "877a038f",
   "metadata": {},
   "outputs": [],
   "source": [
    "import urllib.request\n",
    "import threading\n",
    "\n",
    "urls=[\n",
    "    'https://raw.githubusercontent.com/utkarshg1/mlproject_regression/main/artifacts/data.csv',\n",
    "    \"https://raw.githubusercontent.com/utkarshg1/mlproject_regression/main/artifacts/test.csv\",\n",
    "    \"https://raw.githubusercontent.com/utkarshg1/mlproject_regression/main/artifacts/train.csv\"\n",
    "]"
   ]
  },
  {
   "cell_type": "code",
   "execution_count": 18,
   "id": "16d625db",
   "metadata": {},
   "outputs": [],
   "source": [
    "def download_file(s):\n",
    "    filename = s.split('/')[-1]\n",
    "    urllib.request.urlretrieve(s, filename)  # Fixed typo in urlretrieve\n",
    "    location=\"C:/Users/admin/Documents/AdvPython_Pradnya/Session 6_Multithreading/files/\"+ filename\n",
    "    urllib.request.urlretrieve(u,location)\n",
    "    print(f\"{filename} downloaded\")"
   ]
  },
  {
   "cell_type": "code",
   "execution_count": null,
   "id": "9a3ed658",
   "metadata": {},
   "outputs": [],
   "source": [
    "threads=[]\n",
    "\n",
    "for u in urls:\n",
    "    t1=threading.Thread(target=download_file,args=(u,))\n",
    "    t1.start()\n",
    "    threads.append(t1)\n",
    "for t in threads:\n",
    "    t.join()"
   ]
  }
 ],
 "metadata": {
  "kernelspec": {
   "display_name": "Python 3 (ipykernel)",
   "language": "python",
   "name": "python3"
  },
  "language_info": {
   "codemirror_mode": {
    "name": "ipython",
    "version": 3
   },
   "file_extension": ".py",
   "mimetype": "text/x-python",
   "name": "python",
   "nbconvert_exporter": "python",
   "pygments_lexer": "ipython3",
   "version": "3.11.5"
  }
 },
 "nbformat": 4,
 "nbformat_minor": 5
}
